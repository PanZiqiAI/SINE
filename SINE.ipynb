{
 "cells": [
  {
   "cell_type": "markdown",
   "metadata": {},
   "source": [
    "# Welcome to SINE: SINgle Image Editing with Text-to-Image Diffusion Models!"
   ]
  },
  {
   "cell_type": "markdown",
   "metadata": {},
   "source": [
    "# Step 1: Setup required libraries and models. \n",
    "This may take a few minutes.\n",
    "\n",
    "You may optionally enable downloads with pydrive in order to authenticate and avoid drive download limits when fetching the pre-trained model."
   ]
  },
  {
   "cell_type": "code",
   "execution_count": null,
   "metadata": {},
   "outputs": [],
   "source": [
    "#@title Setup\n",
    "\n",
    "import os\n",
    "\n",
    "from pydrive.auth import GoogleAuth\n",
    "from pydrive.drive import GoogleDrive\n",
    "from google.colab import auth\n",
    "from oauth2client.client import GoogleCredentials\n",
    "\n",
    "from argparse import Namespace\n",
    "\n",
    "import sys\n",
    "import numpy as np\n",
    "\n",
    "from PIL import Image\n",
    "\n",
    "import torch\n",
    "import torchvision.transforms as transforms\n",
    "\n",
    "\n",
    "sine_dir = os.path.join(\"/content\", 'SINE')\n",
    "# install requirements\n",
    "!git clone https://github.com/zhang-zx/SINE.git sine_dir\n",
    "\n",
    "%cd sine_dir/\n",
    "! pip install -e git+https://github.com/CompVis/taming-transformers.git@master#egg=taming-transformers\n",
    "! pip install -e git+https://github.com/openai/CLIP.git@main#egg=clip\n",
    "! pip install transformers==4.18.0 einops==0.4.1 omegaconf==2.1.1 torchmetrics==0.6.0 torch-fidelity==0.3.0 kornia==0.6\n",
    "! pip install -e .\n",
    "\n",
    "\n",
    "download_with_pydrive = True \n",
    "    \n",
    "class Downloader(object):\n",
    "    def __init__(self, use_pydrive):\n",
    "        self.use_pydrive = use_pydrive\n",
    "\n",
    "        if self.use_pydrive:\n",
    "            self.authenticate()\n",
    "        \n",
    "    def authenticate(self):\n",
    "        auth.authenticate_user()\n",
    "        gauth = GoogleAuth()\n",
    "        gauth.credentials = GoogleCredentials.get_application_default()\n",
    "        self.drive = GoogleDrive(gauth)\n",
    "    \n",
    "    def download_file(self, file_id, file_dst):\n",
    "        if self.use_pydrive:\n",
    "            downloaded = self.drive.CreateFile({'id':file_id})\n",
    "            downloaded.FetchMetadata(fetch_all=True)\n",
    "            downloaded.GetContentFile(file_dst)\n",
    "        else:\n",
    "            !gdown --id $file_id -O $file_dst\n",
    "\n",
    "downloader = Downloader(download_with_pydrive)\n",
    "\n",
    "pre_trained_path = os.path.join('models', 'ldm', 'stable-diffusion-v4')\n",
    "os.makedirs(pre_trained_path, exist_ok=True)\n",
    "!wget -O models/ldm/stable-diffusion-v4/sd-v1-4-full-ema.ckpt https://huggingface.co/CompVis/stable-diffusion-v-1-4-original/resolve/main/sd-v1-4-full-ema.ckpt \n",
    "\n",
    "device = 'cuda'"
   ]
  },
  {
   "cell_type": "markdown",
   "metadata": {},
   "source": [
    "# Step 2: Download the selected fine-tuned model. "
   ]
  },
  {
   "cell_type": "code",
   "execution_count": null,
   "metadata": {},
   "outputs": [],
   "source": [
    "finetuned_models_dir = os.path.join('./models', 'finetuned')\n",
    "os.makedirs(finetuned_models_dir, exist_ok=True)\n",
    "\n",
    "orig_image_dir = './dataset'\n",
    "os.makedirs(orig_image_dir, exist_ok=True)\n",
    "\n",
    "source_model_type = 'dog w/o patch-based fine-tuning' #@param['dog w/o patch-based fine-tuning', 'dog w/ patch-based fine-tuning', 'Girl with a peral earring', 'Monalisa', 'castle w/o patch-based fine-tuning', 'castle w/ patch-based fine-tuning']\n",
    "source_model_download_path = {\"dog w/o patch-based fine-tuning\":   \"1WNc3Sx1lkQpYKjz2QFMxlzL0BX6zIORp\",\n",
    "                              \"dog w/ patch-based fine-tuning\":    \"1bxjAi6ZMfchCJPanrryPCcD-rIRX7nWD\",\n",
    "                              \"Girl with a peral earring\":    \"1SrvDggKGQ1cbtBWK0Kd8hRLgQCrtcgUV\",\n",
    "                              \"Monalisa\": \"1gYSEVEa7okuQcU_PoUW4g0AVbneehZqN\",\n",
    "                              \"castle w/o patch-based fine-tuning\":    \"1nt7QMCP_zKX155K3ZxnN_Nzf3tTTBMZx\",\n",
    "                              \"castle w/ patch-based fine-tuning\":  \"1Cmga--lY-bThvtuLcq4XkI7CVyxnpbIh\"}\n",
    "\n",
    "model_names = { \"dog w/o patch-based fine-tuning\":   \"dog_wo_patch.ckpt\",\n",
    "                \"dog w/ patch-based fine-tuning\":    \"dog_w_patch.ckpt\",\n",
    "                \"Girl with a peral earring\":    \"girl.ckpt\",\n",
    "                \"Monalisa\": \"monalisa.ckpt\",\n",
    "                \"castle w/o patch-based fine-tuning\":    \"castle_wo_patch\",\n",
    "                \"castle w/ patch-based fine-tuning\":  \"castle_w_patch\"}\n",
    "\n",
    "download_string = source_model_download_path[source_model_type]\n",
    "file_name = model_names[source_model_type]\n",
    "\n",
    "if not os.path.isfile(os.path.join(finetuned_models_dir, file_name)):\n",
    "    downloader.download_file(download_string, os.path.join(finetuned_models_dir, file_name))"
   ]
  }
 ],
 "metadata": {
  "kernelspec": {
   "display_name": "Python 3.8.0 ('SINE')",
   "language": "python",
   "name": "python3"
  },
  "language_info": {
   "codemirror_mode": {
    "name": "ipython",
    "version": 3
   },
   "file_extension": ".py",
   "mimetype": "text/x-python",
   "name": "python",
   "nbconvert_exporter": "python",
   "pygments_lexer": "ipython3",
   "version": "3.8.0"
  },
  "orig_nbformat": 4,
  "vscode": {
   "interpreter": {
    "hash": "a84f578b9cda1db545aa6690161d7775d6ea32a647f25bb9ef4866c136688289"
   }
  }
 },
 "nbformat": 4,
 "nbformat_minor": 2
}
